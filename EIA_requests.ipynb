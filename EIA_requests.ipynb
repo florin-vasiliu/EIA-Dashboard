{
 "cells": [
  {
   "cell_type": "code",
   "execution_count": 1,
   "metadata": {},
   "outputs": [],
   "source": [
    "import requests\n",
    "import json\n",
    "from APIKEY import eia_api"
   ]
  },
  {
   "cell_type": "code",
   "execution_count": 7,
   "metadata": {},
   "outputs": [],
   "source": [
    "url_series = \"http://api.eia.gov/series/?api_key=\"\n",
    "url_category = \"http://api.eia.gov/category/?api_key=\""
   ]
  },
  {
   "cell_type": "code",
   "execution_count": 8,
   "metadata": {},
   "outputs": [
    {
     "data": {
      "text/plain": [
       "<Response [200]>"
      ]
     },
     "execution_count": 8,
     "metadata": {},
     "output_type": "execute_result"
    }
   ],
   "source": [
    "query_category_url = url_category + eia_api + \"&category_id=371\"\n",
    "\n",
    "request = requests.get(query_category_url)\n",
    "request"
   ]
  },
  {
   "cell_type": "code",
   "execution_count": null,
   "metadata": {},
   "outputs": [],
   "source": [
    "query_series_url = url_series + eia_api + \"&category_id=371\"\n",
    "\n",
    "request = requests.get(query_category_url)\n",
    "request"
   ]
  },
  {
   "cell_type": "code",
   "execution_count": 9,
   "metadata": {},
   "outputs": [
    {
     "name": "stdout",
     "output_type": "stream",
     "text": [
      "{\n",
      "    \"category\": {\n",
      "        \"category_id\": \"371\",\n",
      "        \"childcategories\": [\n",
      "            {\n",
      "                \"category_id\": 0,\n",
      "                \"name\": \"Electricity\"\n",
      "            },\n",
      "            {\n",
      "                \"category_id\": 40203,\n",
      "                \"name\": \"State Energy Data System (SEDS)\"\n",
      "            },\n",
      "            {\n",
      "                \"category_id\": 714755,\n",
      "                \"name\": \"Petroleum\"\n",
      "            },\n",
      "            {\n",
      "                \"category_id\": 714804,\n",
      "                \"name\": \"Natural Gas\"\n",
      "            },\n",
      "            {\n",
      "                \"category_id\": 711224,\n",
      "                \"name\": \"Total Energy\"\n",
      "            },\n",
      "            {\n",
      "                \"category_id\": 717234,\n",
      "                \"name\": \"Coal\"\n",
      "            },\n",
      "            {\n",
      "                \"category_id\": 829714,\n",
      "                \"name\": \"Short-Term Energy Outlook\"\n",
      "            },\n",
      "            {\n",
      "                \"category_id\": 964164,\n",
      "                \"name\": \"Annual Energy Outlook\"\n",
      "            },\n",
      "            {\n",
      "                \"category_id\": 1292190,\n",
      "                \"name\": \"Crude Oil Imports\"\n",
      "            },\n",
      "            {\n",
      "                \"category_id\": 2123635,\n",
      "                \"name\": \"U.S. Electric System Operating Data\"\n",
      "            },\n",
      "            {\n",
      "                \"category_id\": 2134384,\n",
      "                \"name\": \"International Energy Data\"\n",
      "            },\n",
      "            {\n",
      "                \"category_id\": 2251604,\n",
      "                \"name\": \"CO2 Emissions\"\n",
      "            },\n",
      "            {\n",
      "                \"category_id\": 2631064,\n",
      "                \"name\": \"International Energy Outlook\"\n",
      "            },\n",
      "            {\n",
      "                \"category_id\": 2889994,\n",
      "                \"name\": \"U.S. Nuclear Outages\"\n",
      "            }\n",
      "        ],\n",
      "        \"childseries\": [],\n",
      "        \"name\": \"EIA Data Sets\",\n",
      "        \"notes\": \"\",\n",
      "        \"parent_category_id\": null\n",
      "    },\n",
      "    \"request\": {\n",
      "        \"category_id\": 371,\n",
      "        \"command\": \"category\"\n",
      "    }\n",
      "}\n"
     ]
    }
   ],
   "source": [
    "print(json.dumps(request.json(), indent=4, sort_keys=True))"
   ]
  },
  {
   "cell_type": "code",
   "execution_count": null,
   "metadata": {},
   "outputs": [],
   "source": []
  }
 ],
 "metadata": {
  "kernelspec": {
   "display_name": "Python 3",
   "language": "python",
   "name": "python3"
  },
  "language_info": {
   "codemirror_mode": {
    "name": "ipython",
    "version": 3
   },
   "file_extension": ".py",
   "mimetype": "text/x-python",
   "name": "python",
   "nbconvert_exporter": "python",
   "pygments_lexer": "ipython3",
   "version": "3.7.4"
  }
 },
 "nbformat": 4,
 "nbformat_minor": 2
}
