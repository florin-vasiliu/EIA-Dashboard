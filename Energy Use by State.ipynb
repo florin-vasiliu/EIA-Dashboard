{
 "cells": [
  {
   "cell_type": "code",
   "execution_count": 1,
   "metadata": {},
   "outputs": [],
   "source": [
    "import requests\n",
    "import json\n",
    "import pandas as pd\n",
    "import pprint\n",
    "import us"
   ]
  },
  {
   "cell_type": "code",
   "execution_count": 2,
   "metadata": {},
   "outputs": [
    {
     "name": "stdout",
     "output_type": "stream",
     "text": [
      "['AL', 'AK', 'AZ', 'AR', 'CA', 'CO', 'CT', 'DE', 'DC', 'FL', 'GA', 'HI', 'ID', 'IL', 'IN', 'IA', 'KS', 'KY', 'LA', 'ME', 'MD', 'MA', 'MI', 'MN', 'MS', 'MO', 'MT', 'NE', 'NV', 'NH', 'NJ', 'NM', 'NY', 'NC', 'ND', 'OH', 'OK', 'OR', 'PA', 'RI', 'SC', 'SD', 'TN', 'TX', 'UT', 'VT', 'VA', 'WA', 'WV', 'WI', 'WY']\n"
     ]
    }
   ],
   "source": [
    "us_states = us.states.STATES\n",
    "\n",
    "abbreviations = []\n",
    "\n",
    "for state in us_states:\n",
    "    this_state = us.states.lookup(f'{state}')\n",
    "    this_abbr = this_state.abbr\n",
    "    abbreviations.append(this_abbr)\n",
    "\n",
    "print(abbreviations)\n",
    "\n",
    "energy_data = []"
   ]
  },
  {
   "cell_type": "code",
   "execution_count": 3,
   "metadata": {},
   "outputs": [
    {
     "name": "stdout",
     "output_type": "stream",
     "text": [
      "{'AL': 0, 'AK': 1411, 'AZ': 4827, 'AR': 0, 'CA': 127674, 'CO': 88720, 'CT': 112, 'DE': 47, 'DC': 0, 'FL': 0, 'GA': 0, 'HI': 5480, 'ID': 24172, 'IL': 108328, 'IN': 49500, 'IA': 194225, 'KS': 172134, 'KY': 0, 'LA': 0, 'ME': 21707, 'MD': 5189, 'MA': 2012, 'MI': 49683, 'MN': 97537, 'MS': 0, 'MO': 25807, 'MT': 19604, 'NE': 50519, 'NV': 2844, 'NH': 3702, 'NJ': 206, 'NM': 55457, 'NY': 36401, 'NC': 4941, 'ND': 97712, 'OH': 15932, 'OK': 248887, 'OR': 67802, 'PA': 32473, 'RI': 1444, 'SC': 0, 'SD': 25810, 'TN': 373, 'TX': 689177, 'UT': 7234, 'VT': 3399, 'VA': 0, 'WA': 71922, 'WV': 16114, 'WI': 14909, 'WY': 36936}\n"
     ]
    }
   ],
   "source": [
    "api_key = 'db4db849e54451f23e4b892a0044d047'\n",
    "wind_urls = []\n",
    "wind_jsons = []\n",
    "wind_consumption = {}\n",
    "\n",
    "for abbrev in abbreviations:\n",
    "    api_url_base = f'http://api.eia.gov/series/?api_key={api_key}&series_id=SEDS.WYTCB.{abbrev}.A'\n",
    "    this_url = requests.get(api_url_base)\n",
    "    wind_urls.append(this_url)\n",
    "    this_json = this_url.json()\n",
    "    wind_jsons.append(this_json)\n",
    "    wind_consumption[f'{abbrev}'] = this_json['series'][0]['data'][0][1]\n",
    "\n",
    "print(wind_consumption)\n",
    "\n",
    "energy_data.append(wind_consumption)"
   ]
  },
  {
   "cell_type": "code",
   "execution_count": 4,
   "metadata": {},
   "outputs": [
    {
     "name": "stdout",
     "output_type": "stream",
     "text": [
      "{'AL': 101447, 'AK': 15151, 'AZ': 63566, 'AR': 27392, 'CA': 239714, 'CO': 16618, 'CT': 5056, 'DE': 0, 'DC': 0, 'FL': 2117, 'GA': 33656, 'HI': 879, 'ID': 100366, 'IL': 1334, 'IN': 2027, 'IA': 8420, 'KS': 241, 'KY': 40220, 'LA': 10741, 'ME': 29689, 'MD': 25772, 'MA': 10320, 'MI': 14286, 'MN': 9591, 'MS': 0, 'MO': 7542, 'MT': 103828, 'NE': 12582, 'NV': 17127, 'NH': 12336, 'NJ': 324, 'NM': 1361, 'NY': 269752, 'NC': 60136, 'ND': 28952, 'OH': 2222, 'OK': 18526, 'OR': 322671, 'PA': 38799, 'RI': 37, 'SC': 27437, 'SD': 57048, 'TN': 93705, 'TX': 10255, 'UT': 8440, 'VT': 11546, 'VA': 16067, 'WA': 736362, 'WV': 16821, 'WI': 21777, 'WY': 8883}\n"
     ]
    }
   ],
   "source": [
    "api_key = 'db4db849e54451f23e4b892a0044d047'\n",
    "hydro_urls = []\n",
    "hydro_jsons = []\n",
    "hydro_consumption = {}\n",
    "\n",
    "for abbrev in abbreviations:\n",
    "    api_url_base = f'http://api.eia.gov/series/?api_key={api_key}&series_id=SEDS.HYTCB.{abbrev}.A'\n",
    "    this_url = requests.get(api_url_base)\n",
    "    hydro_urls.append(this_url)\n",
    "    this_json = this_url.json()\n",
    "    hydro_jsons.append(this_json)\n",
    "    hydro_consumption[f'{abbrev}'] = this_json['series'][0]['data'][0][1]\n",
    "\n",
    "print(hydro_consumption)\n",
    "\n",
    "energy_data.append(hydro_consumption)"
   ]
  },
  {
   "cell_type": "code",
   "execution_count": 5,
   "metadata": {},
   "outputs": [
    {
     "name": "stdout",
     "output_type": "stream",
     "text": [
      "{'AL': 3425, 'AK': 28, 'AZ': 70800, 'AR': 2118, 'CA': 381733, 'CO': 15338, 'CT': 6486, 'DE': 1492, 'DC': 651, 'FL': 53528, 'GA': 20960, 'HI': 13083, 'ID': 5388, 'IL': 2747, 'IN': 3694, 'IA': 1291, 'KS': 345, 'KY': 719, 'LA': 2190, 'ME': 766, 'MD': 11457, 'MA': 28179, 'MI': 2307, 'MN': 10438, 'MS': 3080, 'MO': 2980, 'MT': 497, 'NE': 373, 'NV': 48554, 'NH': 1057, 'NJ': 28242, 'NM': 14765, 'NY': 17694, 'NC': 57835, 'ND': 8, 'OH': 2757, 'OK': 691, 'OR': 8472, 'PA': 5116, 'RI': 1173, 'SC': 6949, 'SD': 29, 'TN': 2378, 'TX': 36303, 'UT': 23896, 'VT': 2253, 'VA': 8244, 'WA': 1507, 'WV': 140, 'WI': 1288, 'WY': 67}\n"
     ]
    }
   ],
   "source": [
    "api_key = 'db4db849e54451f23e4b892a0044d047'\n",
    "solar_urls = []\n",
    "solar_jsons = []\n",
    "solar_consumption = {}\n",
    "\n",
    "for abbrev in abbreviations:\n",
    "    api_url_base = f'http://api.eia.gov/series/?api_key={api_key}&series_id=SEDS.SOTCB.{abbrev}.A'\n",
    "    this_url = requests.get(api_url_base)\n",
    "    solar_urls.append(this_url)\n",
    "    this_json = this_url.json()\n",
    "    solar_jsons.append(this_json)\n",
    "    solar_consumption[f'{abbrev}'] = this_json['series'][0]['data'][0][1]\n",
    "\n",
    "print(solar_consumption)\n",
    "\n",
    "energy_data.append(solar_consumption)"
   ]
  },
  {
   "cell_type": "code",
   "execution_count": 6,
   "metadata": {},
   "outputs": [
    {
     "name": "stdout",
     "output_type": "stream",
     "text": [
      "{'AL': 193399, 'AK': 8184, 'AZ': 38924, 'AR': 93453, 'CA': 296933, 'CO': 43197, 'CT': 38678, 'DE': 6077, 'DC': 1991, 'FL': 251818, 'GA': 247484, 'HI': 10657, 'ID': 46693, 'IL': 170293, 'IN': 126025, 'IA': 258148, 'KS': 46640, 'KY': 58399, 'LA': 140228, 'ME': 108199, 'MD': 47400, 'MA': 63809, 'MI': 178953, 'MN': 183526, 'MS': 72776, 'MO': 71849, 'MT': 22808, 'NE': 128818, 'NV': 15710, 'NH': 44997, 'NJ': 57692, 'NM': 23085, 'NY': 165245, 'NC': 149276, 'ND': 32863, 'OH': 134241, 'OK': 49768, 'OR': 95023, 'PA': 172636, 'RI': 7320, 'SC': 128475, 'SD': 64791, 'TN': 109283, 'TX': 270784, 'UT': 16851, 'VT': 27015, 'VA': 155471, 'WA': 145868, 'WV': 20594, 'WI': 160969, 'WY': 8368}\n"
     ]
    }
   ],
   "source": [
    "api_key = 'db4db849e54451f23e4b892a0044d047'\n",
    "bio_urls = []\n",
    "bio_jsons = []\n",
    "bio_consumption = {}\n",
    "\n",
    "for abbrev in abbreviations:\n",
    "    api_url_base = f'http://api.eia.gov/series/?api_key={api_key}&series_id=SEDS.BMTCB.{abbrev}.A'\n",
    "    this_url = requests.get(api_url_base)\n",
    "    bio_urls.append(this_url)\n",
    "    this_json = this_url.json()\n",
    "    bio_jsons.append(this_json)\n",
    "    bio_consumption[f'{abbrev}'] = this_json['series'][0]['data'][0][1]\n",
    "\n",
    "print(bio_consumption)\n",
    "\n",
    "energy_data.append(bio_consumption)"
   ]
  },
  {
   "cell_type": "code",
   "execution_count": 7,
   "metadata": {},
   "outputs": [
    {
     "name": "stdout",
     "output_type": "stream",
     "text": [
      "{'AL': 377152, 'AK': 17325, 'AZ': 331492, 'AR': 304145, 'CA': 33256, 'CO': 284474, 'CT': 4023, 'DE': 4296, 'DC': 37, 'FL': 327807, 'GA': 340152, 'HI': 14367, 'ID': 2823, 'IL': 704574, 'IN': 985668, 'IA': 325673, 'KS': 227665, 'KY': 655909, 'LA': 137818, 'ME': 2113, 'MD': 124191, 'MA': 101, 'MI': 506105, 'MN': 261530, 'MS': 60015, 'MO': 668188, 'MT': 152295, 'NE': 264072, 'NV': 34996, 'NH': 7798, 'NJ': 16732, 'NM': 136824, 'NY': 16710, 'NC': 325121, 'ND': 407262, 'OH': 717818, 'OK': 171280, 'OR': 16911, 'PA': 644056, 'RI': 0, 'SC': 205204, 'SD': 27618, 'TN': 251835, 'TX': 1189311, 'UT': 273117, 'VT': 0, 'VA': 149349, 'WA': 61166, 'WV': 661760, 'WI': 362077, 'WY': 455748}\n"
     ]
    }
   ],
   "source": [
    "api_key = 'db4db849e54451f23e4b892a0044d047'\n",
    "coal_urls = []\n",
    "coal_jsons = []\n",
    "coal_consumption = {}\n",
    "\n",
    "for abbrev in abbreviations:\n",
    "    api_url_base = f'http://api.eia.gov/series/?api_key={api_key}&series_id=SEDS.CLTCB.{abbrev}.A'\n",
    "    this_url = requests.get(api_url_base)\n",
    "    coal_urls.append(this_url)\n",
    "    this_json = this_url.json()\n",
    "    coal_jsons.append(this_json)\n",
    "    coal_consumption[f'{abbrev}'] = this_json['series'][0]['data'][0][1]\n",
    "\n",
    "print(coal_consumption)\n",
    "\n",
    "energy_data.append(coal_consumption)"
   ]
  },
  {
   "cell_type": "code",
   "execution_count": null,
   "metadata": {},
   "outputs": [],
   "source": [
    "api_key = 'db4db849e54451f23e4b892a0044d047'\n",
    "coal_urls = []\n",
    "coal_jsons = []\n",
    "coal_consumption = {}\n",
    "\n",
    "for abbrev in abbreviations:\n",
    "    api_url_base = f'http://api.eia.gov/series/?api_key={api_key}&series_id=SEDS.CLTCB.{abbrev}.A'\n",
    "    this_url = requests.get(api_url_base)\n",
    "    coal_urls.append(this_url)\n",
    "    this_json = this_url.json()\n",
    "    coal_jsons.append(this_json)\n",
    "    coal_consumption[f'{abbrev}'] = this_json['series'][0]['data'][0][1]\n",
    "\n",
    "print(coal_consumption)\n",
    "\n",
    "energy_data.append(coal_consumption)"
   ]
  },
  {
   "cell_type": "code",
   "execution_count": null,
   "metadata": {},
   "outputs": [],
   "source": [
    "api_key = 'db4db849e54451f23e4b892a0044d047'\n",
    "coal_urls = []\n",
    "coal_jsons = []\n",
    "coal_consumption = {}\n",
    "\n",
    "for abbrev in abbreviations:\n",
    "    api_url_base = f'http://api.eia.gov/series/?api_key={api_key}&series_id=SEDS.CLTCB.{abbrev}.A'\n",
    "    this_url = requests.get(api_url_base)\n",
    "    coal_urls.append(this_url)\n",
    "    this_json = this_url.json()\n",
    "    coal_jsons.append(this_json)\n",
    "    coal_consumption[f'{abbrev}'] = this_json['series'][0]['data'][0][1]\n",
    "\n",
    "print(coal_consumption)\n",
    "\n",
    "energy_data.append(coal_consumption)"
   ]
  },
  {
   "cell_type": "code",
   "execution_count": null,
   "metadata": {},
   "outputs": [],
   "source": [
    "FFTCB\n",
    "api_key = 'db4db849e54451f23e4b892a0044d047'\n",
    "coal_urls = []\n",
    "coal_jsons = []\n",
    "coal_consumption = {}\n",
    "\n",
    "for abbrev in abbreviations:\n",
    "    api_url_base = f'http://api.eia.gov/series/?api_key={api_key}&series_id=SEDS.CLTCB.{abbrev}.A'\n",
    "    this_url = requests.get(api_url_base)\n",
    "    coal_urls.append(this_url)\n",
    "    this_json = this_url.json()\n",
    "    coal_jsons.append(this_json)\n",
    "    coal_consumption[f'{abbrev}'] = this_json['series'][0]['data'][0][1]\n",
    "\n",
    "print(coal_consumption)\n",
    "\n",
    "energy_data.append(coal_consumption)"
   ]
  },
  {
   "cell_type": "code",
   "execution_count": 8,
   "metadata": {},
   "outputs": [
    {
     "data": {
      "text/html": [
       "<div>\n",
       "<style scoped>\n",
       "    .dataframe tbody tr th:only-of-type {\n",
       "        vertical-align: middle;\n",
       "    }\n",
       "\n",
       "    .dataframe tbody tr th {\n",
       "        vertical-align: top;\n",
       "    }\n",
       "\n",
       "    .dataframe thead th {\n",
       "        text-align: right;\n",
       "    }\n",
       "</style>\n",
       "<table border=\"1\" class=\"dataframe\">\n",
       "  <thead>\n",
       "    <tr style=\"text-align: right;\">\n",
       "      <th></th>\n",
       "      <th>AL</th>\n",
       "      <th>AK</th>\n",
       "      <th>AZ</th>\n",
       "      <th>AR</th>\n",
       "      <th>CA</th>\n",
       "      <th>CO</th>\n",
       "      <th>CT</th>\n",
       "      <th>DE</th>\n",
       "      <th>DC</th>\n",
       "      <th>FL</th>\n",
       "      <th>...</th>\n",
       "      <th>SD</th>\n",
       "      <th>TN</th>\n",
       "      <th>TX</th>\n",
       "      <th>UT</th>\n",
       "      <th>VT</th>\n",
       "      <th>VA</th>\n",
       "      <th>WA</th>\n",
       "      <th>WV</th>\n",
       "      <th>WI</th>\n",
       "      <th>WY</th>\n",
       "    </tr>\n",
       "  </thead>\n",
       "  <tbody>\n",
       "    <tr>\n",
       "      <td>Wind</td>\n",
       "      <td>0</td>\n",
       "      <td>1411</td>\n",
       "      <td>4827</td>\n",
       "      <td>0</td>\n",
       "      <td>127674</td>\n",
       "      <td>88720</td>\n",
       "      <td>112</td>\n",
       "      <td>47</td>\n",
       "      <td>0</td>\n",
       "      <td>0</td>\n",
       "      <td>...</td>\n",
       "      <td>25810</td>\n",
       "      <td>373</td>\n",
       "      <td>689177</td>\n",
       "      <td>7234</td>\n",
       "      <td>3399</td>\n",
       "      <td>0</td>\n",
       "      <td>71922</td>\n",
       "      <td>16114</td>\n",
       "      <td>14909</td>\n",
       "      <td>36936</td>\n",
       "    </tr>\n",
       "    <tr>\n",
       "      <td>Hydro</td>\n",
       "      <td>101447</td>\n",
       "      <td>15151</td>\n",
       "      <td>63566</td>\n",
       "      <td>27392</td>\n",
       "      <td>239714</td>\n",
       "      <td>16618</td>\n",
       "      <td>5056</td>\n",
       "      <td>0</td>\n",
       "      <td>0</td>\n",
       "      <td>2117</td>\n",
       "      <td>...</td>\n",
       "      <td>57048</td>\n",
       "      <td>93705</td>\n",
       "      <td>10255</td>\n",
       "      <td>8440</td>\n",
       "      <td>11546</td>\n",
       "      <td>16067</td>\n",
       "      <td>736362</td>\n",
       "      <td>16821</td>\n",
       "      <td>21777</td>\n",
       "      <td>8883</td>\n",
       "    </tr>\n",
       "    <tr>\n",
       "      <td>Solar</td>\n",
       "      <td>3425</td>\n",
       "      <td>28</td>\n",
       "      <td>70800</td>\n",
       "      <td>2118</td>\n",
       "      <td>381733</td>\n",
       "      <td>15338</td>\n",
       "      <td>6486</td>\n",
       "      <td>1492</td>\n",
       "      <td>651</td>\n",
       "      <td>53528</td>\n",
       "      <td>...</td>\n",
       "      <td>29</td>\n",
       "      <td>2378</td>\n",
       "      <td>36303</td>\n",
       "      <td>23896</td>\n",
       "      <td>2253</td>\n",
       "      <td>8244</td>\n",
       "      <td>1507</td>\n",
       "      <td>140</td>\n",
       "      <td>1288</td>\n",
       "      <td>67</td>\n",
       "    </tr>\n",
       "    <tr>\n",
       "      <td>Bio</td>\n",
       "      <td>193399</td>\n",
       "      <td>8184</td>\n",
       "      <td>38924</td>\n",
       "      <td>93453</td>\n",
       "      <td>296933</td>\n",
       "      <td>43197</td>\n",
       "      <td>38678</td>\n",
       "      <td>6077</td>\n",
       "      <td>1991</td>\n",
       "      <td>251818</td>\n",
       "      <td>...</td>\n",
       "      <td>64791</td>\n",
       "      <td>109283</td>\n",
       "      <td>270784</td>\n",
       "      <td>16851</td>\n",
       "      <td>27015</td>\n",
       "      <td>155471</td>\n",
       "      <td>145868</td>\n",
       "      <td>20594</td>\n",
       "      <td>160969</td>\n",
       "      <td>8368</td>\n",
       "    </tr>\n",
       "    <tr>\n",
       "      <td>Coal</td>\n",
       "      <td>377152</td>\n",
       "      <td>17325</td>\n",
       "      <td>331492</td>\n",
       "      <td>304145</td>\n",
       "      <td>33256</td>\n",
       "      <td>284474</td>\n",
       "      <td>4023</td>\n",
       "      <td>4296</td>\n",
       "      <td>37</td>\n",
       "      <td>327807</td>\n",
       "      <td>...</td>\n",
       "      <td>27618</td>\n",
       "      <td>251835</td>\n",
       "      <td>1189311</td>\n",
       "      <td>273117</td>\n",
       "      <td>0</td>\n",
       "      <td>149349</td>\n",
       "      <td>61166</td>\n",
       "      <td>661760</td>\n",
       "      <td>362077</td>\n",
       "      <td>455748</td>\n",
       "    </tr>\n",
       "  </tbody>\n",
       "</table>\n",
       "<p>5 rows × 51 columns</p>\n",
       "</div>"
      ],
      "text/plain": [
       "           AL     AK      AZ      AR      CA      CO     CT    DE    DC  \\\n",
       "Wind        0   1411    4827       0  127674   88720    112    47     0   \n",
       "Hydro  101447  15151   63566   27392  239714   16618   5056     0     0   \n",
       "Solar    3425     28   70800    2118  381733   15338   6486  1492   651   \n",
       "Bio    193399   8184   38924   93453  296933   43197  38678  6077  1991   \n",
       "Coal   377152  17325  331492  304145   33256  284474   4023  4296    37   \n",
       "\n",
       "           FL  ...     SD      TN       TX      UT     VT      VA      WA  \\\n",
       "Wind        0  ...  25810     373   689177    7234   3399       0   71922   \n",
       "Hydro    2117  ...  57048   93705    10255    8440  11546   16067  736362   \n",
       "Solar   53528  ...     29    2378    36303   23896   2253    8244    1507   \n",
       "Bio    251818  ...  64791  109283   270784   16851  27015  155471  145868   \n",
       "Coal   327807  ...  27618  251835  1189311  273117      0  149349   61166   \n",
       "\n",
       "           WV      WI      WY  \n",
       "Wind    16114   14909   36936  \n",
       "Hydro   16821   21777    8883  \n",
       "Solar     140    1288      67  \n",
       "Bio     20594  160969    8368  \n",
       "Coal   661760  362077  455748  \n",
       "\n",
       "[5 rows x 51 columns]"
      ]
     },
     "execution_count": 8,
     "metadata": {},
     "output_type": "execute_result"
    }
   ],
   "source": [
    "energy_df = pd.DataFrame(energy_data, index =['Wind', 'Hydro', 'Solar', 'Bio', 'Coal'])\n",
    "energy_df.head()"
   ]
  },
  {
   "cell_type": "code",
   "execution_count": null,
   "metadata": {},
   "outputs": [],
   "source": []
  }
 ],
 "metadata": {
  "kernelspec": {
   "display_name": "Python 3.7.4 64-bit ('base': conda)",
   "language": "python",
   "name": "python37464bitbaseconda8f19997082864edea47ec229fe92d7da"
  },
  "language_info": {
   "codemirror_mode": {
    "name": "ipython",
    "version": 3
   },
   "file_extension": ".py",
   "mimetype": "text/x-python",
   "name": "python",
   "nbconvert_exporter": "python",
   "pygments_lexer": "ipython3",
   "version": "3.7.4"
  }
 },
 "nbformat": 4,
 "nbformat_minor": 2
}
