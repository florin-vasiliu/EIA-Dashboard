{
 "cells": [
  {
   "cell_type": "code",
   "execution_count": 1,
   "metadata": {},
   "outputs": [],
   "source": [
    "import requests\n",
    "import json\n",
    "import pandas as pd\n",
    "import pprint\n",
    "import us"
   ]
  },
  {
   "cell_type": "code",
   "execution_count": 3,
   "metadata": {},
   "outputs": [
    {
     "name": "stdout",
     "output_type": "stream",
     "text": [
      "['AL', 'AK', 'AZ', 'AR', 'CA', 'CO', 'CT', 'DE', 'DC', 'FL', 'GA', 'HI', 'ID', 'IL', 'IN', 'IA', 'KS', 'KY', 'LA', 'ME', 'MD', 'MA', 'MI', 'MN', 'MS', 'MO', 'MT', 'NE', 'NV', 'NH', 'NJ', 'NM', 'NY', 'NC', 'ND', 'OH', 'OK', 'OR', 'PA', 'RI', 'SC', 'SD', 'TN', 'TX', 'UT', 'VT', 'VA', 'WA', 'WV', 'WI', 'WY']\n"
     ]
    }
   ],
   "source": [
    "us_states = us.states.STATES\n",
    "\n",
    "abbreviations = []\n",
    "\n",
    "for state in us_states:\n",
    "    this_state = us.states.lookup(f'{state}')\n",
    "    this_abbr = this_state.abbr\n",
    "    abbreviations.append(this_abbr)\n",
    "\n",
    "print(abbreviations)"
   ]
  },
  {
   "cell_type": "code",
   "execution_count": 78,
   "metadata": {},
   "outputs": [
    {
     "name": "stdout",
     "output_type": "stream",
     "text": [
      "{'AL': 0, 'AK': 1411, 'AZ': 4827, 'AR': 0, 'CA': 127674, 'CO': 88720, 'CT': 112, 'DE': 47, 'DC': 0, 'FL': 0, 'GA': 0, 'HI': 5480, 'ID': 24172, 'IL': 108328, 'IN': 49500, 'IA': 194225, 'KS': 172134, 'KY': 0, 'LA': 0, 'ME': 21707, 'MD': 5189, 'MA': 2012, 'MI': 49683, 'MN': 97537, 'MS': 0, 'MO': 25807, 'MT': 19604, 'NE': 50519, 'NV': 2844, 'NH': 3702, 'NJ': 206, 'NM': 55457, 'NY': 36401, 'NC': 4941, 'ND': 97712, 'OH': 15932, 'OK': 248887, 'OR': 67802, 'PA': 32473, 'RI': 1444, 'SC': 0, 'SD': 25810, 'TN': 373, 'TX': 689177, 'UT': 7234, 'VT': 3399, 'VA': 0, 'WA': 71922, 'WV': 16114, 'WI': 14909, 'WY': 36936}\n"
     ]
    }
   ],
   "source": [
    "api_key = 'db4db849e54451f23e4b892a0044d047'\n",
    "wind_urls = []\n",
    "wind_jsons = []\n",
    "wind_consumption = {}\n",
    "\n",
    "for abbrev in abbreviations:\n",
    "    api_url_base = f'http://api.eia.gov/series/?api_key={api_key}&series_id=SEDS.WYTCB.{abbrev}.A'\n",
    "    this_url = requests.get(api_url_base)\n",
    "    wind_urls.append(this_url)\n",
    "    this_json = this_url.json()\n",
    "    wind_jsons.append(this_json)\n",
    "    wind_consumption[f'{abbrev}'] = this_json['series'][0]['data'][0][1]\n",
    "\n",
    "print(wind_consumption)\n"
   ]
  },
  {
   "cell_type": "code",
   "execution_count": 4,
   "metadata": {},
   "outputs": [
    {
     "name": "stdout",
     "output_type": "stream",
     "text": [
      "{'AL': 101447, 'AK': 15151, 'AZ': 63566, 'AR': 27392, 'CA': 239714, 'CO': 16618, 'CT': 5056, 'DE': 0, 'DC': 0, 'FL': 2117, 'GA': 33656, 'HI': 879, 'ID': 100366, 'IL': 1334, 'IN': 2027, 'IA': 8420, 'KS': 241, 'KY': 40220, 'LA': 10741, 'ME': 29689, 'MD': 25772, 'MA': 10320, 'MI': 14286, 'MN': 9591, 'MS': 0, 'MO': 7542, 'MT': 103828, 'NE': 12582, 'NV': 17127, 'NH': 12336, 'NJ': 324, 'NM': 1361, 'NY': 269752, 'NC': 60136, 'ND': 28952, 'OH': 2222, 'OK': 18526, 'OR': 322671, 'PA': 38799, 'RI': 37, 'SC': 27437, 'SD': 57048, 'TN': 93705, 'TX': 10255, 'UT': 8440, 'VT': 11546, 'VA': 16067, 'WA': 736362, 'WV': 16821, 'WI': 21777, 'WY': 8883}\n"
     ]
    }
   ],
   "source": [
    "api_key = 'db4db849e54451f23e4b892a0044d047'\n",
    "hydro_urls = []\n",
    "hydro_jsons = []\n",
    "hydro_consumption = {}\n",
    "\n",
    "for abbrev in abbreviations:\n",
    "    api_url_base = f'http://api.eia.gov/series/?api_key={api_key}&series_id=SEDS.HYTCB.{abbrev}.A'\n",
    "    this_url = requests.get(api_url_base)\n",
    "    hydro_urls.append(this_url)\n",
    "    this_json = this_url.json()\n",
    "    hydro_jsons.append(this_json)\n",
    "    hydro_consumption[f'{abbrev}'] = this_json['series'][0]['data'][0][1]\n",
    "\n",
    "print(hydro_consumption)"
   ]
  },
  {
   "cell_type": "code",
   "execution_count": 79,
   "metadata": {},
   "outputs": [
    {
     "name": "stdout",
     "output_type": "stream",
     "text": [
      "{'AL': 3425, 'AK': 28, 'AZ': 70800, 'AR': 2118, 'CA': 381733, 'CO': 15338, 'CT': 6486, 'DE': 1492, 'DC': 651, 'FL': 53528, 'GA': 20960, 'HI': 13083, 'ID': 5388, 'IL': 2747, 'IN': 3694, 'IA': 1291, 'KS': 345, 'KY': 719, 'LA': 2190, 'ME': 766, 'MD': 11457, 'MA': 28179, 'MI': 2307, 'MN': 10438, 'MS': 3080, 'MO': 2980, 'MT': 497, 'NE': 373, 'NV': 48554, 'NH': 1057, 'NJ': 28242, 'NM': 14765, 'NY': 17694, 'NC': 57835, 'ND': 8, 'OH': 2757, 'OK': 691, 'OR': 8472, 'PA': 5116, 'RI': 1173, 'SC': 6949, 'SD': 29, 'TN': 2378, 'TX': 36303, 'UT': 23896, 'VT': 2253, 'VA': 8244, 'WA': 1507, 'WV': 140, 'WI': 1288, 'WY': 67}\n"
     ]
    }
   ],
   "source": [
    "api_key = 'db4db849e54451f23e4b892a0044d047'\n",
    "solar_urls = []\n",
    "solar_jsons = []\n",
    "solar_consumption = {}\n",
    "\n",
    "for abbrev in abbreviations:\n",
    "    api_url_base = f'http://api.eia.gov/series/?api_key={api_key}&series_id=SEDS.SOTCB.{abbrev}.A'\n",
    "    this_url = requests.get(api_url_base)\n",
    "    solar_urls.append(this_url)\n",
    "    this_json = this_url.json()\n",
    "    solar_jsons.append(this_json)\n",
    "    solar_consumption[f'{abbrev}'] = this_json['series'][0]['data'][0][1]\n",
    "\n",
    "print(solar_consumption)"
   ]
  },
  {
   "cell_type": "code",
   "execution_count": null,
   "metadata": {},
   "outputs": [],
   "source": [
    "api_key = 'db4db849e54451f23e4b892a0044d047'\n",
    "solar_urls = []\n",
    "solar_jsons = []\n",
    "solar_consumption = {}\n",
    "\n",
    "for abbrev in abbreviations:\n",
    "    api_url_base = f'http://api.eia.gov/series/?api_key={api_key}&series_id=SEDS.SOTCB.{abbrev}.A'\n",
    "    this_url = requests.get(api_url_base)\n",
    "    solar_urls.append(this_url)\n",
    "    this_json = this_url.json()\n",
    "    solar_jsons.append(this_json)\n",
    "    solar_consumption[f'{abbrev}'] = this_json['series'][0]['data'][0][1]\n",
    "\n",
    "print(solar_consumption)"
   ]
  }
 ],
 "metadata": {
  "kernelspec": {
   "display_name": "Python 3.7.4 64-bit ('base': conda)",
   "language": "python",
   "name": "python37464bitbaseconda8f19997082864edea47ec229fe92d7da"
  },
  "language_info": {
   "codemirror_mode": {
    "name": "ipython",
    "version": 3
   },
   "file_extension": ".py",
   "mimetype": "text/x-python",
   "name": "python",
   "nbconvert_exporter": "python",
   "pygments_lexer": "ipython3",
   "version": "3.7.4"
  }
 },
 "nbformat": 4,
 "nbformat_minor": 2
}
