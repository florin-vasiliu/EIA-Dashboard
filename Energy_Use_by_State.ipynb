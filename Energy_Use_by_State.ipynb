{
 "cells": [
  {
   "cell_type": "code",
   "execution_count": 13,
   "metadata": {},
   "outputs": [],
   "source": [
    "import requests\n",
    "import json\n",
    "import pandas as pd\n",
    "import pprint\n",
    "import us\n",
    "import pymongo"
   ]
  },
  {
   "cell_type": "code",
   "execution_count": 2,
   "metadata": {},
   "outputs": [
    {
     "name": "stdout",
     "output_type": "stream",
     "text": [
      "['AL', 'AK', 'AZ', 'AR', 'CA', 'CO', 'CT', 'DE', 'DC', 'FL', 'GA', 'HI', 'ID', 'IL', 'IN', 'IA', 'KS', 'KY', 'LA', 'ME', 'MD', 'MA', 'MI', 'MN', 'MS', 'MO', 'MT', 'NE', 'NV', 'NH', 'NJ', 'NM', 'NY', 'NC', 'ND', 'OH', 'OK', 'OR', 'PA', 'RI', 'SC', 'SD', 'TN', 'TX', 'UT', 'VT', 'VA', 'WA', 'WV', 'WI', 'WY']\n",
      "{'_id': 'consumption', 'AL': {'Wind': 0}, 'AK': {'Wind': 0}, 'AZ': {'Wind': 0}, 'AR': {'Wind': 0}, 'CA': {'Wind': 0}, 'CO': {'Wind': 0}, 'CT': {'Wind': 0}, 'DE': {'Wind': 0}, 'DC': {'Wind': 0}, 'FL': {'Wind': 0}, 'GA': {'Wind': 0}, 'HI': {'Wind': 0}, 'ID': {'Wind': 0}, 'IL': {'Wind': 0}, 'IN': {'Wind': 0}, 'IA': {'Wind': 0}, 'KS': {'Wind': 0}, 'KY': {'Wind': 0}, 'LA': {'Wind': 0}, 'ME': {'Wind': 0}, 'MD': {'Wind': 0}, 'MA': {'Wind': 0}, 'MI': {'Wind': 0}, 'MN': {'Wind': 0}, 'MS': {'Wind': 0}, 'MO': {'Wind': 0}, 'MT': {'Wind': 0}, 'NE': {'Wind': 0}, 'NV': {'Wind': 0}, 'NH': {'Wind': 0}, 'NJ': {'Wind': 0}, 'NM': {'Wind': 0}, 'NY': {'Wind': 0}, 'NC': {'Wind': 0}, 'ND': {'Wind': 0}, 'OH': {'Wind': 0}, 'OK': {'Wind': 0}, 'OR': {'Wind': 0}, 'PA': {'Wind': 0}, 'RI': {'Wind': 0}, 'SC': {'Wind': 0}, 'SD': {'Wind': 0}, 'TN': {'Wind': 0}, 'TX': {'Wind': 0}, 'UT': {'Wind': 0}, 'VT': {'Wind': 0}, 'VA': {'Wind': 0}, 'WA': {'Wind': 0}, 'WV': {'Wind': 0}, 'WI': {'Wind': 0}, 'WY': {'Wind': 0}}\n"
     ]
    }
   ],
   "source": [
    "us_states = us.states.STATES\n",
    "\n",
    "abbreviations = []\n",
    "energy_data = {'_id': 'consumption'}\n",
    "\n",
    "for state in us_states:\n",
    "    this_state = us.states.lookup(f'{state}')\n",
    "    this_abbr = this_state.abbr\n",
    "    abbreviations.append(this_abbr)\n",
    "    energy_data.update({this_abbr: {'Wind': 0}})\n",
    "\n",
    "print(abbreviations)\n",
    "\n",
    "\n",
    "print(energy_data)"
   ]
  },
  {
   "cell_type": "code",
   "execution_count": 3,
   "metadata": {},
   "outputs": [
    {
     "name": "stdout",
     "output_type": "stream",
     "text": [
      "{'_id': 'consumption', 'AL': {'Wind': 0}, 'AK': {'Wind': 1411}, 'AZ': {'Wind': 4827}, 'AR': {'Wind': 0}, 'CA': {'Wind': 127674}, 'CO': {'Wind': 88720}, 'CT': {'Wind': 112}, 'DE': {'Wind': 47}, 'DC': {'Wind': 0}, 'FL': {'Wind': 0}, 'GA': {'Wind': 0}, 'HI': {'Wind': 5480}, 'ID': {'Wind': 24172}, 'IL': {'Wind': 108328}, 'IN': {'Wind': 49500}, 'IA': {'Wind': 194225}, 'KS': {'Wind': 172134}, 'KY': {'Wind': 0}, 'LA': {'Wind': 0}, 'ME': {'Wind': 21707}, 'MD': {'Wind': 5189}, 'MA': {'Wind': 2012}, 'MI': {'Wind': 49683}, 'MN': {'Wind': 97537}, 'MS': {'Wind': 0}, 'MO': {'Wind': 25807}, 'MT': {'Wind': 19604}, 'NE': {'Wind': 50519}, 'NV': {'Wind': 2844}, 'NH': {'Wind': 3702}, 'NJ': {'Wind': 206}, 'NM': {'Wind': 55457}, 'NY': {'Wind': 36401}, 'NC': {'Wind': 4941}, 'ND': {'Wind': 97712}, 'OH': {'Wind': 15932}, 'OK': {'Wind': 248887}, 'OR': {'Wind': 67802}, 'PA': {'Wind': 32473}, 'RI': {'Wind': 1444}, 'SC': {'Wind': 0}, 'SD': {'Wind': 25810}, 'TN': {'Wind': 373}, 'TX': {'Wind': 689177}, 'UT': {'Wind': 7234}, 'VT': {'Wind': 3399}, 'VA': {'Wind': 0}, 'WA': {'Wind': 71922}, 'WV': {'Wind': 16114}, 'WI': {'Wind': 14909}, 'WY': {'Wind': 36936}}\n"
     ]
    }
   ],
   "source": [
    "api_key = 'db4db849e54451f23e4b892a0044d047'\n",
    "wind_urls = []\n",
    "wind_jsons = []\n",
    "wind_consumption = {}\n",
    "\n",
    "for abbrev in abbreviations:\n",
    "    api_url_base = f'http://api.eia.gov/series/?api_key={api_key}&series_id=SEDS.WYTCB.{abbrev}.A'\n",
    "    this_url = requests.get(api_url_base)\n",
    "    wind_urls.append(this_url)\n",
    "    this_json = this_url.json()\n",
    "    wind_jsons.append(this_json)\n",
    "    wind_consumption[f'{abbrev}'] = this_json['series'][0]['data'][0][1]\n",
    "    energy_data[f'{abbrev}']['Wind'] = this_json['series'][0]['data'][0][1]\n",
    "\n",
    "print(energy_data)\n"
   ]
  },
  {
   "cell_type": "code",
   "execution_count": 4,
   "metadata": {},
   "outputs": [
    {
     "name": "stdout",
     "output_type": "stream",
     "text": [
      "{'_id': 'consumption', 'AL': {'Wind': 0, 'Hydro': 101447}, 'AK': {'Wind': 1411, 'Hydro': 15151}, 'AZ': {'Wind': 4827, 'Hydro': 63566}, 'AR': {'Wind': 0, 'Hydro': 27392}, 'CA': {'Wind': 127674, 'Hydro': 239714}, 'CO': {'Wind': 88720, 'Hydro': 16618}, 'CT': {'Wind': 112, 'Hydro': 5056}, 'DE': {'Wind': 47, 'Hydro': 0}, 'DC': {'Wind': 0, 'Hydro': 0}, 'FL': {'Wind': 0, 'Hydro': 2117}, 'GA': {'Wind': 0, 'Hydro': 33656}, 'HI': {'Wind': 5480, 'Hydro': 879}, 'ID': {'Wind': 24172, 'Hydro': 100366}, 'IL': {'Wind': 108328, 'Hydro': 1334}, 'IN': {'Wind': 49500, 'Hydro': 2027}, 'IA': {'Wind': 194225, 'Hydro': 8420}, 'KS': {'Wind': 172134, 'Hydro': 241}, 'KY': {'Wind': 0, 'Hydro': 40220}, 'LA': {'Wind': 0, 'Hydro': 10741}, 'ME': {'Wind': 21707, 'Hydro': 29689}, 'MD': {'Wind': 5189, 'Hydro': 25772}, 'MA': {'Wind': 2012, 'Hydro': 10320}, 'MI': {'Wind': 49683, 'Hydro': 14286}, 'MN': {'Wind': 97537, 'Hydro': 9591}, 'MS': {'Wind': 0, 'Hydro': 0}, 'MO': {'Wind': 25807, 'Hydro': 7542}, 'MT': {'Wind': 19604, 'Hydro': 103828}, 'NE': {'Wind': 50519, 'Hydro': 12582}, 'NV': {'Wind': 2844, 'Hydro': 17127}, 'NH': {'Wind': 3702, 'Hydro': 12336}, 'NJ': {'Wind': 206, 'Hydro': 324}, 'NM': {'Wind': 55457, 'Hydro': 1361}, 'NY': {'Wind': 36401, 'Hydro': 269752}, 'NC': {'Wind': 4941, 'Hydro': 60136}, 'ND': {'Wind': 97712, 'Hydro': 28952}, 'OH': {'Wind': 15932, 'Hydro': 2222}, 'OK': {'Wind': 248887, 'Hydro': 18526}, 'OR': {'Wind': 67802, 'Hydro': 322671}, 'PA': {'Wind': 32473, 'Hydro': 38799}, 'RI': {'Wind': 1444, 'Hydro': 37}, 'SC': {'Wind': 0, 'Hydro': 27437}, 'SD': {'Wind': 25810, 'Hydro': 57048}, 'TN': {'Wind': 373, 'Hydro': 93705}, 'TX': {'Wind': 689177, 'Hydro': 10255}, 'UT': {'Wind': 7234, 'Hydro': 8440}, 'VT': {'Wind': 3399, 'Hydro': 11546}, 'VA': {'Wind': 0, 'Hydro': 16067}, 'WA': {'Wind': 71922, 'Hydro': 736362}, 'WV': {'Wind': 16114, 'Hydro': 16821}, 'WI': {'Wind': 14909, 'Hydro': 21777}, 'WY': {'Wind': 36936, 'Hydro': 8883}}\n"
     ]
    }
   ],
   "source": [
    "api_key = 'db4db849e54451f23e4b892a0044d047'\n",
    "hydro_urls = []\n",
    "hydro_jsons = []\n",
    "hydro_consumption = {}\n",
    "\n",
    "for abbrev in abbreviations:\n",
    "    api_url_base = f'http://api.eia.gov/series/?api_key={api_key}&series_id=SEDS.HYTCB.{abbrev}.A'\n",
    "    this_url = requests.get(api_url_base)\n",
    "    hydro_urls.append(this_url)\n",
    "    this_json = this_url.json()\n",
    "    hydro_jsons.append(this_json)\n",
    "    hydro_consumption[f'{abbrev}'] = this_json['series'][0]['data'][0][1]\n",
    "    energy_data[f'{abbrev}']['Hydro'] = this_json['series'][0]['data'][0][1]\n",
    "\n",
    "print(energy_data)"
   ]
  },
  {
   "cell_type": "code",
   "execution_count": 5,
   "metadata": {},
   "outputs": [
    {
     "name": "stdout",
     "output_type": "stream",
     "text": [
      "{'_id': 'consumption', 'AL': {'Wind': 0, 'Hydro': 101447, 'Solar': 3425}, 'AK': {'Wind': 1411, 'Hydro': 15151, 'Solar': 28}, 'AZ': {'Wind': 4827, 'Hydro': 63566, 'Solar': 70800}, 'AR': {'Wind': 0, 'Hydro': 27392, 'Solar': 2118}, 'CA': {'Wind': 127674, 'Hydro': 239714, 'Solar': 381733}, 'CO': {'Wind': 88720, 'Hydro': 16618, 'Solar': 15338}, 'CT': {'Wind': 112, 'Hydro': 5056, 'Solar': 6486}, 'DE': {'Wind': 47, 'Hydro': 0, 'Solar': 1492}, 'DC': {'Wind': 0, 'Hydro': 0, 'Solar': 651}, 'FL': {'Wind': 0, 'Hydro': 2117, 'Solar': 53528}, 'GA': {'Wind': 0, 'Hydro': 33656, 'Solar': 20960}, 'HI': {'Wind': 5480, 'Hydro': 879, 'Solar': 13083}, 'ID': {'Wind': 24172, 'Hydro': 100366, 'Solar': 5388}, 'IL': {'Wind': 108328, 'Hydro': 1334, 'Solar': 2747}, 'IN': {'Wind': 49500, 'Hydro': 2027, 'Solar': 3694}, 'IA': {'Wind': 194225, 'Hydro': 8420, 'Solar': 1291}, 'KS': {'Wind': 172134, 'Hydro': 241, 'Solar': 345}, 'KY': {'Wind': 0, 'Hydro': 40220, 'Solar': 719}, 'LA': {'Wind': 0, 'Hydro': 10741, 'Solar': 2190}, 'ME': {'Wind': 21707, 'Hydro': 29689, 'Solar': 766}, 'MD': {'Wind': 5189, 'Hydro': 25772, 'Solar': 11457}, 'MA': {'Wind': 2012, 'Hydro': 10320, 'Solar': 28179}, 'MI': {'Wind': 49683, 'Hydro': 14286, 'Solar': 2307}, 'MN': {'Wind': 97537, 'Hydro': 9591, 'Solar': 10438}, 'MS': {'Wind': 0, 'Hydro': 0, 'Solar': 3080}, 'MO': {'Wind': 25807, 'Hydro': 7542, 'Solar': 2980}, 'MT': {'Wind': 19604, 'Hydro': 103828, 'Solar': 497}, 'NE': {'Wind': 50519, 'Hydro': 12582, 'Solar': 373}, 'NV': {'Wind': 2844, 'Hydro': 17127, 'Solar': 48554}, 'NH': {'Wind': 3702, 'Hydro': 12336, 'Solar': 1057}, 'NJ': {'Wind': 206, 'Hydro': 324, 'Solar': 28242}, 'NM': {'Wind': 55457, 'Hydro': 1361, 'Solar': 14765}, 'NY': {'Wind': 36401, 'Hydro': 269752, 'Solar': 17694}, 'NC': {'Wind': 4941, 'Hydro': 60136, 'Solar': 57835}, 'ND': {'Wind': 97712, 'Hydro': 28952, 'Solar': 8}, 'OH': {'Wind': 15932, 'Hydro': 2222, 'Solar': 2757}, 'OK': {'Wind': 248887, 'Hydro': 18526, 'Solar': 691}, 'OR': {'Wind': 67802, 'Hydro': 322671, 'Solar': 8472}, 'PA': {'Wind': 32473, 'Hydro': 38799, 'Solar': 5116}, 'RI': {'Wind': 1444, 'Hydro': 37, 'Solar': 1173}, 'SC': {'Wind': 0, 'Hydro': 27437, 'Solar': 6949}, 'SD': {'Wind': 25810, 'Hydro': 57048, 'Solar': 29}, 'TN': {'Wind': 373, 'Hydro': 93705, 'Solar': 2378}, 'TX': {'Wind': 689177, 'Hydro': 10255, 'Solar': 36303}, 'UT': {'Wind': 7234, 'Hydro': 8440, 'Solar': 23896}, 'VT': {'Wind': 3399, 'Hydro': 11546, 'Solar': 2253}, 'VA': {'Wind': 0, 'Hydro': 16067, 'Solar': 8244}, 'WA': {'Wind': 71922, 'Hydro': 736362, 'Solar': 1507}, 'WV': {'Wind': 16114, 'Hydro': 16821, 'Solar': 140}, 'WI': {'Wind': 14909, 'Hydro': 21777, 'Solar': 1288}, 'WY': {'Wind': 36936, 'Hydro': 8883, 'Solar': 67}}\n"
     ]
    }
   ],
   "source": [
    "api_key = 'db4db849e54451f23e4b892a0044d047'\n",
    "solar_urls = []\n",
    "solar_jsons = []\n",
    "solar_consumption = {}\n",
    "\n",
    "for abbrev in abbreviations:\n",
    "    api_url_base = f'http://api.eia.gov/series/?api_key={api_key}&series_id=SEDS.SOTCB.{abbrev}.A'\n",
    "    this_url = requests.get(api_url_base)\n",
    "    solar_urls.append(this_url)\n",
    "    this_json = this_url.json()\n",
    "    solar_jsons.append(this_json)\n",
    "    solar_consumption[f'{abbrev}'] = this_json['series'][0]['data'][0][1]\n",
    "    energy_data[f'{abbrev}']['Solar'] = this_json['series'][0]['data'][0][1]\n",
    "\n",
    "print(energy_data)"
   ]
  },
  {
   "cell_type": "code",
   "execution_count": 6,
   "metadata": {},
   "outputs": [
    {
     "name": "stdout",
     "output_type": "stream",
     "text": [
      "{'_id': 'consumption', 'AL': {'Wind': 0, 'Hydro': 101447, 'Solar': 3425, 'Bio': 193399}, 'AK': {'Wind': 1411, 'Hydro': 15151, 'Solar': 28, 'Bio': 8184}, 'AZ': {'Wind': 4827, 'Hydro': 63566, 'Solar': 70800, 'Bio': 38924}, 'AR': {'Wind': 0, 'Hydro': 27392, 'Solar': 2118, 'Bio': 93453}, 'CA': {'Wind': 127674, 'Hydro': 239714, 'Solar': 381733, 'Bio': 296933}, 'CO': {'Wind': 88720, 'Hydro': 16618, 'Solar': 15338, 'Bio': 43197}, 'CT': {'Wind': 112, 'Hydro': 5056, 'Solar': 6486, 'Bio': 38678}, 'DE': {'Wind': 47, 'Hydro': 0, 'Solar': 1492, 'Bio': 6077}, 'DC': {'Wind': 0, 'Hydro': 0, 'Solar': 651, 'Bio': 1991}, 'FL': {'Wind': 0, 'Hydro': 2117, 'Solar': 53528, 'Bio': 251818}, 'GA': {'Wind': 0, 'Hydro': 33656, 'Solar': 20960, 'Bio': 247484}, 'HI': {'Wind': 5480, 'Hydro': 879, 'Solar': 13083, 'Bio': 10657}, 'ID': {'Wind': 24172, 'Hydro': 100366, 'Solar': 5388, 'Bio': 46693}, 'IL': {'Wind': 108328, 'Hydro': 1334, 'Solar': 2747, 'Bio': 170293}, 'IN': {'Wind': 49500, 'Hydro': 2027, 'Solar': 3694, 'Bio': 126025}, 'IA': {'Wind': 194225, 'Hydro': 8420, 'Solar': 1291, 'Bio': 258148}, 'KS': {'Wind': 172134, 'Hydro': 241, 'Solar': 345, 'Bio': 46640}, 'KY': {'Wind': 0, 'Hydro': 40220, 'Solar': 719, 'Bio': 58399}, 'LA': {'Wind': 0, 'Hydro': 10741, 'Solar': 2190, 'Bio': 140228}, 'ME': {'Wind': 21707, 'Hydro': 29689, 'Solar': 766, 'Bio': 108199}, 'MD': {'Wind': 5189, 'Hydro': 25772, 'Solar': 11457, 'Bio': 47400}, 'MA': {'Wind': 2012, 'Hydro': 10320, 'Solar': 28179, 'Bio': 63809}, 'MI': {'Wind': 49683, 'Hydro': 14286, 'Solar': 2307, 'Bio': 178953}, 'MN': {'Wind': 97537, 'Hydro': 9591, 'Solar': 10438, 'Bio': 183526}, 'MS': {'Wind': 0, 'Hydro': 0, 'Solar': 3080, 'Bio': 72776}, 'MO': {'Wind': 25807, 'Hydro': 7542, 'Solar': 2980, 'Bio': 71849}, 'MT': {'Wind': 19604, 'Hydro': 103828, 'Solar': 497, 'Bio': 22808}, 'NE': {'Wind': 50519, 'Hydro': 12582, 'Solar': 373, 'Bio': 128818}, 'NV': {'Wind': 2844, 'Hydro': 17127, 'Solar': 48554, 'Bio': 15710}, 'NH': {'Wind': 3702, 'Hydro': 12336, 'Solar': 1057, 'Bio': 44997}, 'NJ': {'Wind': 206, 'Hydro': 324, 'Solar': 28242, 'Bio': 57692}, 'NM': {'Wind': 55457, 'Hydro': 1361, 'Solar': 14765, 'Bio': 23085}, 'NY': {'Wind': 36401, 'Hydro': 269752, 'Solar': 17694, 'Bio': 165245}, 'NC': {'Wind': 4941, 'Hydro': 60136, 'Solar': 57835, 'Bio': 149276}, 'ND': {'Wind': 97712, 'Hydro': 28952, 'Solar': 8, 'Bio': 32863}, 'OH': {'Wind': 15932, 'Hydro': 2222, 'Solar': 2757, 'Bio': 134241}, 'OK': {'Wind': 248887, 'Hydro': 18526, 'Solar': 691, 'Bio': 49768}, 'OR': {'Wind': 67802, 'Hydro': 322671, 'Solar': 8472, 'Bio': 95023}, 'PA': {'Wind': 32473, 'Hydro': 38799, 'Solar': 5116, 'Bio': 172636}, 'RI': {'Wind': 1444, 'Hydro': 37, 'Solar': 1173, 'Bio': 7320}, 'SC': {'Wind': 0, 'Hydro': 27437, 'Solar': 6949, 'Bio': 128475}, 'SD': {'Wind': 25810, 'Hydro': 57048, 'Solar': 29, 'Bio': 64791}, 'TN': {'Wind': 373, 'Hydro': 93705, 'Solar': 2378, 'Bio': 109283}, 'TX': {'Wind': 689177, 'Hydro': 10255, 'Solar': 36303, 'Bio': 270784}, 'UT': {'Wind': 7234, 'Hydro': 8440, 'Solar': 23896, 'Bio': 16851}, 'VT': {'Wind': 3399, 'Hydro': 11546, 'Solar': 2253, 'Bio': 27015}, 'VA': {'Wind': 0, 'Hydro': 16067, 'Solar': 8244, 'Bio': 155471}, 'WA': {'Wind': 71922, 'Hydro': 736362, 'Solar': 1507, 'Bio': 145868}, 'WV': {'Wind': 16114, 'Hydro': 16821, 'Solar': 140, 'Bio': 20594}, 'WI': {'Wind': 14909, 'Hydro': 21777, 'Solar': 1288, 'Bio': 160969}, 'WY': {'Wind': 36936, 'Hydro': 8883, 'Solar': 67, 'Bio': 8368}}\n"
     ]
    }
   ],
   "source": [
    "api_key = 'db4db849e54451f23e4b892a0044d047'\n",
    "bio_urls = []\n",
    "bio_jsons = []\n",
    "bio_consumption = {}\n",
    "\n",
    "for abbrev in abbreviations:\n",
    "    api_url_base = f'http://api.eia.gov/series/?api_key={api_key}&series_id=SEDS.BMTCB.{abbrev}.A'\n",
    "    this_url = requests.get(api_url_base)\n",
    "    bio_urls.append(this_url)\n",
    "    this_json = this_url.json()\n",
    "    bio_jsons.append(this_json)\n",
    "    bio_consumption[f'{abbrev}'] = this_json['series'][0]['data'][0][1]\n",
    "    energy_data[f'{abbrev}']['Bio'] = this_json['series'][0]['data'][0][1]\n",
    "\n",
    "print(energy_data)"
   ]
  },
  {
   "cell_type": "code",
   "execution_count": 7,
   "metadata": {},
   "outputs": [
    {
     "name": "stdout",
     "output_type": "stream",
     "text": [
      "{'_id': 'consumption', 'AL': {'Wind': 0, 'Hydro': 101447, 'Solar': 3425, 'Bio': 193399, 'Geo': 141}, 'AK': {'Wind': 1411, 'Hydro': 15151, 'Solar': 28, 'Bio': 8184, 'Geo': 186}, 'AZ': {'Wind': 4827, 'Hydro': 63566, 'Solar': 70800, 'Bio': 38924, 'Geo': 345}, 'AR': {'Wind': 0, 'Hydro': 27392, 'Solar': 2118, 'Bio': 93453, 'Geo': 808}, 'CA': {'Wind': 127674, 'Hydro': 239714, 'Solar': 381733, 'Bio': 296933, 'Geo': 108445}, 'CO': {'Wind': 88720, 'Hydro': 16618, 'Solar': 15338, 'Bio': 43197, 'Geo': 759}, 'CT': {'Wind': 112, 'Hydro': 5056, 'Solar': 6486, 'Bio': 38678, 'Geo': 21}, 'DE': {'Wind': 47, 'Hydro': 0, 'Solar': 1492, 'Bio': 6077, 'Geo': 430}, 'DC': {'Wind': 0, 'Hydro': 0, 'Solar': 651, 'Bio': 1991, 'Geo': 22}, 'FL': {'Wind': 0, 'Hydro': 2117, 'Solar': 53528, 'Bio': 251818, 'Geo': 10056}, 'GA': {'Wind': 0, 'Hydro': 33656, 'Solar': 20960, 'Bio': 247484, 'Geo': 315}, 'HI': {'Wind': 5480, 'Hydro': 879, 'Solar': 13083, 'Bio': 10657, 'Geo': 1010}, 'ID': {'Wind': 24172, 'Hydro': 100366, 'Solar': 5388, 'Bio': 46693, 'Geo': 2259}, 'IL': {'Wind': 108328, 'Hydro': 1334, 'Solar': 2747, 'Bio': 170293, 'Geo': 2042}, 'IN': {'Wind': 49500, 'Hydro': 2027, 'Solar': 3694, 'Bio': 126025, 'Geo': 4647}, 'IA': {'Wind': 194225, 'Hydro': 8420, 'Solar': 1291, 'Bio': 258148, 'Geo': 1281}, 'KS': {'Wind': 172134, 'Hydro': 241, 'Solar': 345, 'Bio': 46640, 'Geo': 974}, 'KY': {'Wind': 0, 'Hydro': 40220, 'Solar': 719, 'Bio': 58399, 'Geo': 2712}, 'LA': {'Wind': 0, 'Hydro': 10741, 'Solar': 2190, 'Bio': 140228, 'Geo': 1842}, 'ME': {'Wind': 21707, 'Hydro': 29689, 'Solar': 766, 'Bio': 108199, 'Geo': 72}, 'MD': {'Wind': 5189, 'Hydro': 25772, 'Solar': 11457, 'Bio': 47400, 'Geo': 570}, 'MA': {'Wind': 2012, 'Hydro': 10320, 'Solar': 28179, 'Bio': 63809, 'Geo': 859}, 'MI': {'Wind': 49683, 'Hydro': 14286, 'Solar': 2307, 'Bio': 178953, 'Geo': 5193}, 'MN': {'Wind': 97537, 'Hydro': 9591, 'Solar': 10438, 'Bio': 183526, 'Geo': 1075}, 'MS': {'Wind': 0, 'Hydro': 0, 'Solar': 3080, 'Bio': 72776, 'Geo': 958}, 'MO': {'Wind': 25807, 'Hydro': 7542, 'Solar': 2980, 'Bio': 71849, 'Geo': 352}, 'MT': {'Wind': 19604, 'Hydro': 103828, 'Solar': 497, 'Bio': 22808, 'Geo': 337}, 'NE': {'Wind': 50519, 'Hydro': 12582, 'Solar': 373, 'Bio': 128818, 'Geo': 1212}, 'NV': {'Wind': 2844, 'Hydro': 17127, 'Solar': 48554, 'Bio': 15710, 'Geo': 33066}, 'NH': {'Wind': 3702, 'Hydro': 12336, 'Solar': 1057, 'Bio': 44997, 'Geo': 29}, 'NJ': {'Wind': 206, 'Hydro': 324, 'Solar': 28242, 'Bio': 57692, 'Geo': 466}, 'NM': {'Wind': 55457, 'Hydro': 1361, 'Solar': 14765, 'Bio': 23085, 'Geo': 487}, 'NY': {'Wind': 36401, 'Hydro': 269752, 'Solar': 17694, 'Bio': 165245, 'Geo': 1185}, 'NC': {'Wind': 4941, 'Hydro': 60136, 'Solar': 57835, 'Bio': 149276, 'Geo': 967}, 'ND': {'Wind': 97712, 'Hydro': 28952, 'Solar': 8, 'Bio': 32863, 'Geo': 978}, 'OH': {'Wind': 15932, 'Hydro': 2222, 'Solar': 2757, 'Bio': 134241, 'Geo': 3435}, 'OK': {'Wind': 248887, 'Hydro': 18526, 'Solar': 691, 'Bio': 49768, 'Geo': 24}, 'OR': {'Wind': 67802, 'Hydro': 322671, 'Solar': 8472, 'Bio': 95023, 'Geo': 2837}, 'PA': {'Wind': 32473, 'Hydro': 38799, 'Solar': 5116, 'Bio': 172636, 'Geo': 2162}, 'RI': {'Wind': 1444, 'Hydro': 37, 'Solar': 1173, 'Bio': 7320, 'Geo': 57}, 'SC': {'Wind': 0, 'Hydro': 27437, 'Solar': 6949, 'Bio': 128475, 'Geo': 648}, 'SD': {'Wind': 25810, 'Hydro': 57048, 'Solar': 29, 'Bio': 64791, 'Geo': 1868}, 'TN': {'Wind': 373, 'Hydro': 93705, 'Solar': 2378, 'Bio': 109283, 'Geo': 213}, 'TX': {'Wind': 689177, 'Hydro': 10255, 'Solar': 36303, 'Bio': 270784, 'Geo': 2478}, 'UT': {'Wind': 7234, 'Hydro': 8440, 'Solar': 23896, 'Bio': 16851, 'Geo': 4866}, 'VT': {'Wind': 3399, 'Hydro': 11546, 'Solar': 2253, 'Bio': 27015, 'Geo': 29}, 'VA': {'Wind': 0, 'Hydro': 16067, 'Solar': 8244, 'Bio': 155471, 'Geo': 1701}, 'WA': {'Wind': 71922, 'Hydro': 736362, 'Solar': 1507, 'Bio': 145868, 'Geo': 1136}, 'WV': {'Wind': 16114, 'Hydro': 16821, 'Solar': 140, 'Bio': 20594, 'Geo': 32}, 'WI': {'Wind': 14909, 'Hydro': 21777, 'Solar': 1288, 'Bio': 160969, 'Geo': 615}, 'WY': {'Wind': 36936, 'Hydro': 8883, 'Solar': 67, 'Bio': 8368, 'Geo': 663}}\n"
     ]
    }
   ],
   "source": [
    "api_key = 'db4db849e54451f23e4b892a0044d047'\n",
    "geo_urls = []\n",
    "geo_jsons = []\n",
    "geo_consumption = {}\n",
    "\n",
    "for abbrev in abbreviations:\n",
    "    api_url_base = f'http://api.eia.gov/series/?api_key={api_key}&series_id=SEDS.GETCB.{abbrev}.A'\n",
    "    this_url = requests.get(api_url_base)\n",
    "    geo_urls.append(this_url)\n",
    "    this_json = this_url.json()\n",
    "    geo_jsons.append(this_json)\n",
    "    geo_consumption[f'{abbrev}'] = this_json['series'][0]['data'][0][1]\n",
    "    energy_data[f'{abbrev}']['Geo'] = this_json['series'][0]['data'][0][1]\n",
    "    \n",
    "print(energy_data)"
   ]
  },
  {
   "cell_type": "code",
   "execution_count": 8,
   "metadata": {},
   "outputs": [
    {
     "name": "stdout",
     "output_type": "stream",
     "text": [
      "{'_id': 'production', 'AL': 255547, 'AK': 23677, 'AZ': 148680, 'AR': 109448, 'CA': 1115301, 'CO': 150812, 'CT': 32292, 'DE': 3279, 'DC': 1316, 'FL': 237547, 'GA': 271817, 'HI': 26432, 'ID': 171224, 'IL': 370323, 'IN': 249549, 'IA': 780543, 'KS': 247455, 'KY': 82345, 'LA': 232508, 'ME': 152720, 'MD': 55447, 'MA': 72448, 'MI': 229236, 'MN': 359770, 'MS': 67018, 'MO': 90657, 'MT': 135969, 'NE': 359399, 'NV': 98186, 'NH': 59271, 'NJ': 47987, 'NM': 67517, 'NY': 450661, 'NC': 217876, 'ND': 197466, 'OH': 153613, 'OK': 263497, 'OR': 494569, 'PA': 201490, 'RI': 5816, 'SC': 130212, 'SD': 225550, 'TN': 176274, 'TX': 786173, 'UT': 53343, 'VT': 38044, 'VA': 138386, 'WA': 942447, 'WV': 41831, 'WI': 215300, 'WY': 55968}\n"
     ]
    }
   ],
   "source": [
    "production_data = {}\n",
    "api_key = 'db4db849e54451f23e4b892a0044d047'\n",
    "renew_urls = []\n",
    "renew_jsons = []\n",
    "renew_production = {'_id':'production'}\n",
    "\n",
    "for abbrev in abbreviations:\n",
    "    api_url_base = f'http://api.eia.gov/series/?api_key={api_key}&series_id=SEDS.REPRB.{abbrev}.A'\n",
    "    this_url = requests.get(api_url_base)\n",
    "    renew_urls.append(this_url)\n",
    "    this_json = this_url.json()\n",
    "    renew_jsons.append(this_json)\n",
    "    renew_production[f'{abbrev}'] = this_json['series'][0]['data'][0][1]\n",
    "\n",
    "print(renew_production)\n",
    "\n",
    "production_data.update(renew_production)"
   ]
  },
  {
   "cell_type": "code",
   "execution_count": 9,
   "metadata": {},
   "outputs": [
    {
     "data": {
      "text/plain": [
       "{'Wind': 0, 'Hydro': 101447, 'Solar': 3425, 'Bio': 193399, 'Geo': 141}"
      ]
     },
     "execution_count": 9,
     "metadata": {},
     "output_type": "execute_result"
    }
   ],
   "source": [
    "energy_data['AL']"
   ]
  },
  {
   "cell_type": "code",
   "execution_count": 14,
   "metadata": {},
   "outputs": [],
   "source": [
    "# Connect to MongoDB\n",
    "client = pymongo.MongoClient('mongodb://localhost:27017/')"
   ]
  },
  {
   "cell_type": "code",
   "execution_count": 18,
   "metadata": {},
   "outputs": [],
   "source": [
    "# Create New Database\n",
    "db = client.eia_db"
   ]
  },
  {
   "cell_type": "code",
   "execution_count": 19,
   "metadata": {},
   "outputs": [
    {
     "data": {
      "text/plain": [
       "<pymongo.results.InsertManyResult at 0x11e35fb40>"
      ]
     },
     "execution_count": 19,
     "metadata": {},
     "output_type": "execute_result"
    }
   ],
   "source": [
    "# Create State_Collection Collection\n",
    "state_collection = db.state_collection\n",
    "\n",
    "# Insert Consumption Data as New Document\n",
    "state_collection.insert_many([energy_data])"
   ]
  },
  {
   "cell_type": "code",
   "execution_count": 20,
   "metadata": {},
   "outputs": [
    {
     "data": {
      "text/plain": [
       "<pymongo.results.InsertManyResult at 0x11e350820>"
      ]
     },
     "execution_count": 20,
     "metadata": {},
     "output_type": "execute_result"
    }
   ],
   "source": [
    "# Insert Production Data as New Document\n",
    "state_collection.insert_many([renew_production])"
   ]
  },
  {
   "cell_type": "code",
   "execution_count": null,
   "metadata": {},
   "outputs": [],
   "source": []
  }
 ],
 "metadata": {
  "kernelspec": {
   "display_name": "Python 3.7.4 64-bit ('base': conda)",
   "language": "python",
   "name": "python37464bitbaseconda8f19997082864edea47ec229fe92d7da"
  },
  "language_info": {
   "codemirror_mode": {
    "name": "ipython",
    "version": 3
   },
   "file_extension": ".py",
   "mimetype": "text/x-python",
   "name": "python",
   "nbconvert_exporter": "python",
   "pygments_lexer": "ipython3",
   "version": "3.7.4"
  }
 },
 "nbformat": 4,
 "nbformat_minor": 2
}
